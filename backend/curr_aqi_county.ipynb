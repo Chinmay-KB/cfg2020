{
 "cells": [
  {
   "cell_type": "code",
   "execution_count": 1,
   "metadata": {},
   "outputs": [],
   "source": [
    "import numpy as np\n",
    "import pandas as pd"
   ]
  },
  {
   "cell_type": "code",
   "execution_count": 2,
   "metadata": {},
   "outputs": [
    {
     "name": "stdout",
     "output_type": "stream",
     "text": [
      "                    county\n",
      "0                Snohomish\n",
      "1                     Cook\n",
      "2                   Orange\n",
      "3                 Maricopa\n",
      "4              Los Angeles\n",
      "...                    ...\n",
      "1924                 Hayes\n",
      "1925             Petroleum\n",
      "1926  Skagway Municipality\n",
      "1927             Esmeralda\n",
      "1928                Loving\n",
      "\n",
      "[1929 rows x 1 columns]\n"
     ]
    }
   ],
   "source": [
    "counties = pd.read_csv(\"us-counties.csv\")[[\"county\"]]\n",
    "counties.drop_duplicates(ignore_index=True, inplace=True)\n",
    "print(counties)"
   ]
  },
  {
   "cell_type": "code",
   "execution_count": 10,
   "metadata": {},
   "outputs": [
    {
     "name": "stderr",
     "output_type": "stream",
     "text": [
      "D:\\C\\Anaconda\\envs\\tensorflow\\lib\\site-packages\\pandas\\core\\frame.py:3155: SettingWithCopyWarning: \n",
      "A value is trying to be set on a copy of a slice from a DataFrame\n",
      "\n",
      "See the caveats in the documentation: https://pandas.pydata.org/pandas-docs/stable/user_guide/indexing.html#returning-a-view-versus-a-copy\n",
      "  self.loc[index, col] = value\n"
     ]
    },
    {
     "name": "stdout",
     "output_type": "stream",
     "text": [
      "        county   AQI   CO   NO2  Ozone  PM10  PM2.5  SO2\n",
      "40  Santa Rosa  21.0  NaN  27.0   20.8   NaN    NaN  0.6\n",
      "41  Montgomery  59.0  NaN   NaN    NaN   NaN   59.0  NaN\n",
      "42   Middlesex  13.0  1.2   2.8   12.8   NaN   11.0  1.5\n",
      "43       Clark   NaN  NaN   NaN    NaN   NaN    NaN  NaN\n",
      "44      Washoe   NaN  NaN   NaN    NaN   NaN    NaN  NaN\n",
      "45      Nassau   NaN  NaN   NaN    NaN   NaN    NaN  NaN\n",
      "46  Williamson   NaN  NaN   NaN    NaN   NaN    NaN  NaN\n",
      "47      Harris   NaN  NaN   NaN    NaN   NaN    NaN  NaN\n",
      "48       Pinal   NaN  NaN   NaN    NaN   NaN    NaN  NaN\n",
      "49        Yolo   NaN  NaN   NaN    NaN   NaN    NaN  NaN\n"
     ]
    }
   ],
   "source": [
    "test_df = pd.DataFrame({\"county\": [\"delhi\", \"beijing\", \"mumbai\"]})\n"
   ]
  }
 ],
 "metadata": {
  "kernelspec": {
   "display_name": "Python 3",
   "language": "python",
   "name": "python3"
  },
  "language_info": {
   "codemirror_mode": {
    "name": "ipython",
    "version": 3
   },
   "file_extension": ".py",
   "mimetype": "text/x-python",
   "name": "python",
   "nbconvert_exporter": "python",
   "pygments_lexer": "ipython3",
   "version": "3.8.5"
  }
 },
 "nbformat": 4,
 "nbformat_minor": 4
}
